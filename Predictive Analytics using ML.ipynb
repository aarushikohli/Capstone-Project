{
 "cells": [
  {
   "cell_type": "markdown",
   "id": "483d3fca",
   "metadata": {},
   "source": [
    "# k-Nearest Neighbors (kNN)"
   ]
  },
  {
   "cell_type": "code",
   "execution_count": 1,
   "id": "95c69996",
   "metadata": {},
   "outputs": [
    {
     "name": "stdout",
     "output_type": "stream",
     "text": [
      "Current Working Directory is: C:\\Users\\HP\\EDP BA Python\n",
      "New Working Directory is: C:\\Users\\HP\\Desktop\\EDP BA Python\n"
     ]
    }
   ],
   "source": [
    "import os\n",
    "print(\"Current Working Directory is:\",os.getcwd())\n",
    "os.chdir(\"C:/Users/HP/Desktop/EDP BA Python\")\n",
    "print(\"New Working Directory is:\",os.getcwd())"
   ]
  },
  {
   "cell_type": "code",
   "execution_count": 2,
   "id": "7f1183c6",
   "metadata": {},
   "outputs": [],
   "source": [
    "import warnings\n",
    "warnings.filterwarnings('ignore')"
   ]
  },
  {
   "cell_type": "code",
   "execution_count": 3,
   "id": "e660ca66",
   "metadata": {},
   "outputs": [],
   "source": [
    "import pandas as pd\n",
    "from sklearn import preprocessing\n",
    "from sklearn.model_selection import train_test_split\n",
    "from sklearn.metrics import accuracy_score\n",
    "from sklearn.neighbors import NearestNeighbors, KNeighborsClassifier\n",
    "import matplotlib.pylab as plt"
   ]
  },
  {
   "cell_type": "code",
   "execution_count": 4,
   "id": "b771983e",
   "metadata": {},
   "outputs": [
    {
     "data": {
      "text/html": [
       "<div>\n",
       "<style scoped>\n",
       "    .dataframe tbody tr th:only-of-type {\n",
       "        vertical-align: middle;\n",
       "    }\n",
       "\n",
       "    .dataframe tbody tr th {\n",
       "        vertical-align: top;\n",
       "    }\n",
       "\n",
       "    .dataframe thead th {\n",
       "        text-align: right;\n",
       "    }\n",
       "</style>\n",
       "<table border=\"1\" class=\"dataframe\">\n",
       "  <thead>\n",
       "    <tr style=\"text-align: right;\">\n",
       "      <th></th>\n",
       "      <th>House Age</th>\n",
       "      <th>Square Feet</th>\n",
       "      <th>Market Value</th>\n",
       "      <th>Number</th>\n",
       "    </tr>\n",
       "  </thead>\n",
       "  <tbody>\n",
       "    <tr>\n",
       "      <th>0</th>\n",
       "      <td>33</td>\n",
       "      <td>1812</td>\n",
       "      <td>90000</td>\n",
       "      <td>1</td>\n",
       "    </tr>\n",
       "    <tr>\n",
       "      <th>1</th>\n",
       "      <td>32</td>\n",
       "      <td>1914</td>\n",
       "      <td>104400</td>\n",
       "      <td>2</td>\n",
       "    </tr>\n",
       "    <tr>\n",
       "      <th>2</th>\n",
       "      <td>32</td>\n",
       "      <td>1842</td>\n",
       "      <td>93300</td>\n",
       "      <td>3</td>\n",
       "    </tr>\n",
       "    <tr>\n",
       "      <th>3</th>\n",
       "      <td>33</td>\n",
       "      <td>1812</td>\n",
       "      <td>91000</td>\n",
       "      <td>4</td>\n",
       "    </tr>\n",
       "    <tr>\n",
       "      <th>4</th>\n",
       "      <td>32</td>\n",
       "      <td>1836</td>\n",
       "      <td>101900</td>\n",
       "      <td>5</td>\n",
       "    </tr>\n",
       "    <tr>\n",
       "      <th>5</th>\n",
       "      <td>33</td>\n",
       "      <td>2028</td>\n",
       "      <td>108500</td>\n",
       "      <td>6</td>\n",
       "    </tr>\n",
       "    <tr>\n",
       "      <th>6</th>\n",
       "      <td>32</td>\n",
       "      <td>1732</td>\n",
       "      <td>87600</td>\n",
       "      <td>7</td>\n",
       "    </tr>\n",
       "    <tr>\n",
       "      <th>7</th>\n",
       "      <td>33</td>\n",
       "      <td>1850</td>\n",
       "      <td>96000</td>\n",
       "      <td>8</td>\n",
       "    </tr>\n",
       "    <tr>\n",
       "      <th>8</th>\n",
       "      <td>32</td>\n",
       "      <td>1791</td>\n",
       "      <td>89200</td>\n",
       "      <td>9</td>\n",
       "    </tr>\n",
       "  </tbody>\n",
       "</table>\n",
       "</div>"
      ],
      "text/plain": [
       "   House Age  Square Feet  Market Value  Number\n",
       "0         33         1812         90000       1\n",
       "1         32         1914        104400       2\n",
       "2         32         1842         93300       3\n",
       "3         33         1812         91000       4\n",
       "4         32         1836        101900       5\n",
       "5         33         2028        108500       6\n",
       "6         32         1732         87600       7\n",
       "7         33         1850         96000       8\n",
       "8         32         1791         89200       9"
      ]
     },
     "execution_count": 4,
     "metadata": {},
     "output_type": "execute_result"
    }
   ],
   "source": [
    "Home_df = pd.read_excel('Home Market Value.xlsx')\n",
    "Home_df['Number'] = Home_df.index + 1\n",
    "Home_df.head(9)"
   ]
  },
  {
   "cell_type": "code",
   "execution_count": 5,
   "id": "6210e58d",
   "metadata": {},
   "outputs": [
    {
     "name": "stdout",
     "output_type": "stream",
     "text": [
      "(25, 4) (17, 4)\n"
     ]
    },
    {
     "data": {
      "text/html": [
       "<div>\n",
       "<style scoped>\n",
       "    .dataframe tbody tr th:only-of-type {\n",
       "        vertical-align: middle;\n",
       "    }\n",
       "\n",
       "    .dataframe tbody tr th {\n",
       "        vertical-align: top;\n",
       "    }\n",
       "\n",
       "    .dataframe thead th {\n",
       "        text-align: right;\n",
       "    }\n",
       "</style>\n",
       "<table border=\"1\" class=\"dataframe\">\n",
       "  <thead>\n",
       "    <tr style=\"text-align: right;\">\n",
       "      <th></th>\n",
       "      <th>House Age</th>\n",
       "      <th>Square Feet</th>\n",
       "    </tr>\n",
       "  </thead>\n",
       "  <tbody>\n",
       "    <tr>\n",
       "      <th>0</th>\n",
       "      <td>32</td>\n",
       "      <td>1812</td>\n",
       "    </tr>\n",
       "  </tbody>\n",
       "</table>\n",
       "</div>"
      ],
      "text/plain": [
       "   House Age  Square Feet\n",
       "0         32         1812"
      ]
     },
     "execution_count": 5,
     "metadata": {},
     "output_type": "execute_result"
    }
   ],
   "source": [
    "trainData, validData = train_test_split(Home_df, test_size=0.4, random_state=28)\n",
    "print(trainData.shape, validData.shape)\n",
    "newMarketValue = pd.DataFrame([{'House Age': 32, 'Square Feet': 1812}])\n",
    "newMarketValue"
   ]
  },
  {
   "cell_type": "code",
   "execution_count": 6,
   "id": "41c1b042",
   "metadata": {},
   "outputs": [],
   "source": [
    "scaler = preprocessing.StandardScaler()\n",
    "scaler.fit(trainData[['House Age', 'Square Feet']])  \n",
    "HomeNorm = pd.concat([pd.DataFrame(scaler.transform(Home_df[['House Age', 'Square Feet']]), \n",
    "                                    columns=['zHouse Age', 'zSquare Feet']),\n",
    "                       Home_df[['Market Value', 'Number']]], axis=1)\n",
    "trainNorm = HomeNorm.iloc[trainData.index]\n",
    "validNorm = HomeNorm.iloc[validData.index]\n",
    "newMarketValueNorm = pd.DataFrame(scaler.transform(newMarketValue), columns=['zHouse Age', 'zSquare Feet'])"
   ]
  },
  {
   "cell_type": "code",
   "execution_count": 7,
   "id": "ac403ec9",
   "metadata": {},
   "outputs": [
    {
     "name": "stdout",
     "output_type": "stream",
     "text": [
      "    zHouse Age  zSquare Feet  Market Value  Number\n",
      "8     0.811812      0.227611         89200       9\n",
      "2     0.811812      0.443859         93300       3\n",
      "18    0.811812     -0.026798         86400      19\n",
      "0     1.234631      0.316654         90000       1\n",
      "3     1.234631      0.316654         91000       4\n"
     ]
    }
   ],
   "source": [
    "knn = NearestNeighbors(n_neighbors=5)\n",
    "knn.fit(trainNorm[['zHouse Age', 'zSquare Feet']])\n",
    "distances, indices = knn.kneighbors(newMarketValueNorm)\n",
    "print(trainNorm.iloc[indices[0], :])"
   ]
  },
  {
   "cell_type": "code",
   "execution_count": 8,
   "id": "4c88ca53",
   "metadata": {},
   "outputs": [
    {
     "name": "stdout",
     "output_type": "stream",
     "text": [
      "[87600]\n",
      "Distances [[0.08904307 0.10176351 0.12720439 0.16960585 0.33921171]]\n",
      "Indices [[ 8  4  2 10  6]]\n",
      "    zHouse Age  zSquare Feet  Market Value  Number\n",
      "8     0.811812      0.227611         89200       9\n",
      "4     0.811812      0.418418        101900       5\n",
      "2     0.811812      0.443859         93300       3\n",
      "10    0.811812      0.486260        100800      11\n",
      "6     0.811812     -0.022558         87600       7\n"
     ]
    }
   ],
   "source": [
    "Home_X = HomeNorm[['zHouse Age', 'zSquare Feet']]\n",
    "Home_y = HomeNorm['Market Value']\n",
    "knn = KNeighborsClassifier(n_neighbors=5).fit(Home_X, Home_y)\n",
    "distances, indices = knn.kneighbors(newMarketValueNorm)\n",
    "print(knn.predict(newMarketValueNorm))\n",
    "print('Distances',distances)\n",
    "print('Indices', indices)\n",
    "print(HomeNorm.iloc[indices[0], :])"
   ]
  },
  {
   "cell_type": "markdown",
   "id": "71f3c41e",
   "metadata": {},
   "source": [
    "# Neural Networks"
   ]
  },
  {
   "cell_type": "code",
   "execution_count": 9,
   "id": "6faee5a8",
   "metadata": {},
   "outputs": [
    {
     "name": "stdout",
     "output_type": "stream",
     "text": [
      "Current Working Directory is: C:\\Users\\HP\\Desktop\\EDP BA Python\n",
      "New Working Directory is: C:\\Users\\HP\\Desktop\\EDP BA Python\n"
     ]
    }
   ],
   "source": [
    "import os\n",
    "print(\"Current Working Directory is:\",os.getcwd())\n",
    "os.chdir(\"C:/Users/HP/Desktop/EDP BA Python\")\n",
    "print(\"New Working Directory is:\",os.getcwd())"
   ]
  },
  {
   "cell_type": "code",
   "execution_count": 10,
   "id": "c0fcb6b7",
   "metadata": {},
   "outputs": [],
   "source": [
    "import warnings\n",
    "warnings.filterwarnings('ignore')"
   ]
  },
  {
   "cell_type": "code",
   "execution_count": 11,
   "id": "4238009d",
   "metadata": {},
   "outputs": [],
   "source": [
    "%matplotlib inline\n",
    "\n",
    "from pathlib import Path\n",
    "\n",
    "import pandas as pd\n",
    "from sklearn.model_selection import train_test_split\n",
    "from sklearn.neural_network import MLPClassifier\n",
    "from dmba import classificationSummary"
   ]
  },
  {
   "cell_type": "code",
   "execution_count": 12,
   "id": "4f258c86",
   "metadata": {},
   "outputs": [
    {
     "data": {
      "text/html": [
       "<div>\n",
       "<style scoped>\n",
       "    .dataframe tbody tr th:only-of-type {\n",
       "        vertical-align: middle;\n",
       "    }\n",
       "\n",
       "    .dataframe tbody tr th {\n",
       "        vertical-align: top;\n",
       "    }\n",
       "\n",
       "    .dataframe thead th {\n",
       "        text-align: right;\n",
       "    }\n",
       "</style>\n",
       "<table border=\"1\" class=\"dataframe\">\n",
       "  <thead>\n",
       "    <tr style=\"text-align: right;\">\n",
       "      <th></th>\n",
       "      <th>Loan_ID</th>\n",
       "      <th>Gender</th>\n",
       "      <th>Married</th>\n",
       "      <th>Dependents</th>\n",
       "      <th>Education</th>\n",
       "      <th>Self_Employed</th>\n",
       "      <th>ApplicantIncome</th>\n",
       "      <th>CoapplicantIncome</th>\n",
       "      <th>LoanAmount</th>\n",
       "      <th>Loan_Amount_Term</th>\n",
       "      <th>Credit_History</th>\n",
       "      <th>Property_Area</th>\n",
       "      <th>Loan_Status</th>\n",
       "    </tr>\n",
       "  </thead>\n",
       "  <tbody>\n",
       "    <tr>\n",
       "      <th>0</th>\n",
       "      <td>LP001002</td>\n",
       "      <td>Male</td>\n",
       "      <td>No</td>\n",
       "      <td>0</td>\n",
       "      <td>Graduate</td>\n",
       "      <td>No</td>\n",
       "      <td>5849</td>\n",
       "      <td>0.0</td>\n",
       "      <td>112</td>\n",
       "      <td>360.0</td>\n",
       "      <td>1.0</td>\n",
       "      <td>Urban</td>\n",
       "      <td>Y</td>\n",
       "    </tr>\n",
       "    <tr>\n",
       "      <th>1</th>\n",
       "      <td>LP001003</td>\n",
       "      <td>Male</td>\n",
       "      <td>Yes</td>\n",
       "      <td>1</td>\n",
       "      <td>Graduate</td>\n",
       "      <td>No</td>\n",
       "      <td>4583</td>\n",
       "      <td>1508.0</td>\n",
       "      <td>128</td>\n",
       "      <td>360.0</td>\n",
       "      <td>1.0</td>\n",
       "      <td>Rural</td>\n",
       "      <td>N</td>\n",
       "    </tr>\n",
       "    <tr>\n",
       "      <th>2</th>\n",
       "      <td>LP001005</td>\n",
       "      <td>Male</td>\n",
       "      <td>Yes</td>\n",
       "      <td>0</td>\n",
       "      <td>Graduate</td>\n",
       "      <td>Yes</td>\n",
       "      <td>3000</td>\n",
       "      <td>0.0</td>\n",
       "      <td>66</td>\n",
       "      <td>360.0</td>\n",
       "      <td>1.0</td>\n",
       "      <td>Urban</td>\n",
       "      <td>Y</td>\n",
       "    </tr>\n",
       "    <tr>\n",
       "      <th>3</th>\n",
       "      <td>LP001006</td>\n",
       "      <td>Male</td>\n",
       "      <td>Yes</td>\n",
       "      <td>0</td>\n",
       "      <td>Not Graduate</td>\n",
       "      <td>No</td>\n",
       "      <td>2583</td>\n",
       "      <td>2358.0</td>\n",
       "      <td>120</td>\n",
       "      <td>360.0</td>\n",
       "      <td>1.0</td>\n",
       "      <td>Urban</td>\n",
       "      <td>Y</td>\n",
       "    </tr>\n",
       "    <tr>\n",
       "      <th>4</th>\n",
       "      <td>LP001008</td>\n",
       "      <td>Male</td>\n",
       "      <td>No</td>\n",
       "      <td>0</td>\n",
       "      <td>Graduate</td>\n",
       "      <td>No</td>\n",
       "      <td>6000</td>\n",
       "      <td>0.0</td>\n",
       "      <td>141</td>\n",
       "      <td>360.0</td>\n",
       "      <td>1.0</td>\n",
       "      <td>Urban</td>\n",
       "      <td>Y</td>\n",
       "    </tr>\n",
       "  </tbody>\n",
       "</table>\n",
       "</div>"
      ],
      "text/plain": [
       "    Loan_ID Gender Married Dependents     Education Self_Employed  \\\n",
       "0  LP001002   Male      No          0      Graduate            No   \n",
       "1  LP001003   Male     Yes          1      Graduate            No   \n",
       "2  LP001005   Male     Yes          0      Graduate           Yes   \n",
       "3  LP001006   Male     Yes          0  Not Graduate            No   \n",
       "4  LP001008   Male      No          0      Graduate            No   \n",
       "\n",
       "   ApplicantIncome  CoapplicantIncome  LoanAmount  Loan_Amount_Term  \\\n",
       "0             5849                0.0         112             360.0   \n",
       "1             4583             1508.0         128             360.0   \n",
       "2             3000                0.0          66             360.0   \n",
       "3             2583             2358.0         120             360.0   \n",
       "4             6000                0.0         141             360.0   \n",
       "\n",
       "   Credit_History Property_Area Loan_Status  \n",
       "0             1.0         Urban           Y  \n",
       "1             1.0         Rural           N  \n",
       "2             1.0         Urban           Y  \n",
       "3             1.0         Urban           Y  \n",
       "4             1.0         Urban           Y  "
      ]
     },
     "execution_count": 12,
     "metadata": {},
     "output_type": "execute_result"
    }
   ],
   "source": [
    "Loan_df = pd.read_csv('LoanPredictionTrain.csv')\n",
    "Loan_df.head()"
   ]
  },
  {
   "cell_type": "code",
   "execution_count": 13,
   "id": "b6c5de5a",
   "metadata": {},
   "outputs": [
    {
     "name": "stdout",
     "output_type": "stream",
     "text": [
      "Intercepts\n",
      "[array([-0.39685293, -0.19535012, -0.13057996]), array([-6.74341527])]\n",
      "Weights\n",
      "[array([[-0.10481614,  0.27869527, -0.63144549],\n",
      "       [-0.24968953, -0.4460328 , -0.51494971]]), array([[0.05482002],\n",
      "       [7.54140184],\n",
      "       [0.26158144]])]\n",
      "      Loan_ID  Gender Married Dependents     Education Self_Employed  \\\n",
      "0    LP001002    Male      No          0      Graduate            No   \n",
      "1    LP001003    Male     Yes          1      Graduate            No   \n",
      "2    LP001005    Male     Yes          0      Graduate           Yes   \n",
      "3    LP001006    Male     Yes          0  Not Graduate            No   \n",
      "4    LP001008    Male      No          0      Graduate            No   \n",
      "..        ...     ...     ...        ...           ...           ...   \n",
      "609  LP002978  Female      No          0      Graduate            No   \n",
      "610  LP002979    Male     Yes         3+      Graduate            No   \n",
      "611  LP002983    Male     Yes          1      Graduate            No   \n",
      "612  LP002984    Male     Yes          2      Graduate            No   \n",
      "613  LP002990  Female      No          0      Graduate           Yes   \n",
      "\n",
      "     ApplicantIncome  CoapplicantIncome  LoanAmount  Loan_Amount_Term  \\\n",
      "0               5849                0.0         112             360.0   \n",
      "1               4583             1508.0         128             360.0   \n",
      "2               3000                0.0          66             360.0   \n",
      "3               2583             2358.0         120             360.0   \n",
      "4               6000                0.0         141             360.0   \n",
      "..               ...                ...         ...               ...   \n",
      "609             2900                0.0          71             360.0   \n",
      "610             4106                0.0          40             180.0   \n",
      "611             8072              240.0         253             360.0   \n",
      "612             7583                0.0         187             360.0   \n",
      "613             4583                0.0         133             360.0   \n",
      "\n",
      "     Credit_History Property_Area Loan_Status         N         Y  \n",
      "0               1.0         Urban           Y  0.310456  0.689544  \n",
      "1               1.0         Rural           N  0.310456  0.689544  \n",
      "2               1.0         Urban           Y  0.310456  0.689544  \n",
      "3               1.0         Urban           Y  0.310456  0.689544  \n",
      "4               1.0         Urban           Y  0.310456  0.689544  \n",
      "..              ...           ...         ...       ...       ...  \n",
      "609             1.0         Rural           Y  0.310456  0.689544  \n",
      "610             1.0         Rural           Y  0.310456  0.689544  \n",
      "611             1.0         Urban           Y  0.310456  0.689544  \n",
      "612             1.0         Urban           Y  0.310456  0.689544  \n",
      "613             0.0     Semiurban           N  0.310456  0.689544  \n",
      "\n",
      "[614 rows x 15 columns]\n"
     ]
    }
   ],
   "source": [
    "Loan_df = pd.read_csv('LoanPredictionTrain.csv')\n",
    "\n",
    "predictors = ['ApplicantIncome', 'LoanAmount']\n",
    "outcome = 'Loan_Status'\n",
    "\n",
    "X = Loan_df[predictors]\n",
    "y = Loan_df[outcome]\n",
    "classes = sorted(y.unique())\n",
    "\n",
    "clf = MLPClassifier(hidden_layer_sizes=(3), activation='logistic', solver='lbfgs', random_state=1)\n",
    "clf.fit(X, y)\n",
    "clf.predict(X)\n",
    "\n",
    "print('Intercepts')\n",
    "print(clf.intercepts_)\n",
    "\n",
    "print('Weights')\n",
    "print(clf.coefs_)\n",
    "\n",
    "print(pd.concat([\n",
    "    Loan_df,\n",
    "    pd.DataFrame(clf.predict_proba(X), columns=classes)\n",
    "], axis=1))"
   ]
  },
  {
   "cell_type": "code",
   "execution_count": 14,
   "id": "e49ee503",
   "metadata": {},
   "outputs": [
    {
     "name": "stdout",
     "output_type": "stream",
     "text": [
      "Hidden layer 2 => 3\n",
      " Intercepts:\n",
      "  [-0.39685293 -0.19535012 -0.13057996]\n",
      " Weights:\n",
      "  [-0.10481614  0.27869527 -0.63144549]\n",
      "  [-0.24968953 -0.4460328  -0.51494971]\n",
      "\n",
      "Output layer 3 => 1\n",
      " Intercepts:\n",
      "  [-6.74341527]\n",
      " Weights:\n",
      "  [0.05482002]\n",
      "  [7.54140184]\n",
      "  [0.26158144]\n",
      "\n"
     ]
    }
   ],
   "source": [
    "for i, (weights, intercepts) in enumerate(zip(clf.coefs_, clf.intercepts_)):\n",
    "    print('Hidden layer' if i == 0 else 'Output layer', '{0[0]} => {0[1]}'.format(weights.shape))\n",
    "    print(' Intercepts:\\n ', intercepts)\n",
    "    print(' Weights:')\n",
    "    for weight in weights:\n",
    "        print(' ', weight)\n",
    "    print()"
   ]
  },
  {
   "cell_type": "code",
   "execution_count": 15,
   "id": "2367e57c",
   "metadata": {},
   "outputs": [
    {
     "name": "stdout",
     "output_type": "stream",
     "text": [
      "Confusion Matrix (Accuracy 0.6906)\n",
      "\n",
      "       Prediction\n",
      "Actual   N   Y\n",
      "     N   2 190\n",
      "     Y   0 422\n"
     ]
    }
   ],
   "source": [
    "classificationSummary(y, clf.predict(X), class_names=classes)"
   ]
  },
  {
   "cell_type": "markdown",
   "id": "1496e0ff",
   "metadata": {},
   "source": [
    "# Multiple Linear Regression"
   ]
  },
  {
   "cell_type": "code",
   "execution_count": 16,
   "id": "2dc68930",
   "metadata": {},
   "outputs": [
    {
     "name": "stdout",
     "output_type": "stream",
     "text": [
      "Current Working Directory is: C:\\Users\\HP\\Desktop\\EDP BA Python\n",
      "New Working Directory is: C:\\Users\\HP\\Desktop\\EDP BA Python\n"
     ]
    }
   ],
   "source": [
    "import os\n",
    "print(\"Current Working Directory is:\",os.getcwd())\n",
    "os.chdir(\"C:/Users/HP/Desktop/EDP BA Python\")\n",
    "print(\"New Working Directory is:\",os.getcwd())"
   ]
  },
  {
   "cell_type": "code",
   "execution_count": 17,
   "id": "5c00007b",
   "metadata": {},
   "outputs": [],
   "source": [
    "import warnings\n",
    "warnings.filterwarnings('ignore')"
   ]
  },
  {
   "cell_type": "code",
   "execution_count": 18,
   "id": "2dd4b2b4",
   "metadata": {},
   "outputs": [],
   "source": [
    "%matplotlib inline\n",
    "from pathlib import Path\n",
    "\n",
    "import pandas as pd\n",
    "from sklearn.model_selection import train_test_split\n",
    "from sklearn.linear_model import LinearRegression, Lasso, Ridge, LassoCV, BayesianRidge\n",
    "import statsmodels.formula.api as sm\n",
    "import matplotlib.pylab as plt\n",
    "\n",
    "from dmba import regressionSummary, exhaustive_search\n",
    "from dmba import backward_elimination, forward_selection, stepwise_selection\n",
    "from dmba import adjusted_r2_score, AIC_score, BIC_score"
   ]
  },
  {
   "cell_type": "code",
   "execution_count": 19,
   "id": "6822875a",
   "metadata": {},
   "outputs": [
    {
     "name": "stdout",
     "output_type": "stream",
     "text": [
      "intercept  58741.96723428106\n",
      "     Predictor  coefficient\n",
      "0  Square Feet    42.143170\n",
      "1    House Age -1245.044905\n",
      "\n",
      "Regression statistics\n",
      "\n",
      "                      Mean Error (ME) : 0.0000\n",
      "       Root Mean Squared Error (RMSE) : 7631.5813\n",
      "            Mean Absolute Error (MAE) : 5392.9821\n",
      "          Mean Percentage Error (MPE) : -0.6027\n",
      "Mean Absolute Percentage Error (MAPE) : 5.4864\n"
     ]
    }
   ],
   "source": [
    "Home_df = pd.read_excel('Home Market Value.xlsx')\n",
    "\n",
    "predictors = ['Square Feet', 'House Age']\n",
    "outcome = 'Market Value'\n",
    "\n",
    "X = pd.get_dummies(Home_df[predictors], drop_first=True)\n",
    "y = Home_df[outcome]\n",
    "train_X, valid_X, train_y, valid_y = train_test_split(X, y, test_size=0.4, random_state=1)\n",
    "\n",
    "Home_lm = LinearRegression()\n",
    "Home_lm.fit(train_X, train_y)\n",
    "\n",
    "print('intercept ', Home_lm.intercept_)\n",
    "print(pd.DataFrame({'Predictor': X.columns, 'coefficient': Home_lm.coef_}))\n",
    "\n",
    "regressionSummary(train_y, Home_lm.predict(train_X))"
   ]
  },
  {
   "cell_type": "code",
   "execution_count": 20,
   "id": "35d1eb79",
   "metadata": {},
   "outputs": [
    {
     "name": "stdout",
     "output_type": "stream",
     "text": [
      "adjusted r2 :  0.5429968856320624\n",
      "AIC :  525.9494444824511\n",
      "BIC :  530.8249477819239\n"
     ]
    }
   ],
   "source": [
    "pred_y = Home_lm.predict(train_X)\n",
    "\n",
    "print('adjusted r2 : ', adjusted_r2_score(train_y, pred_y, Home_lm))\n",
    "print('AIC : ', AIC_score(train_y, pred_y, Home_lm))\n",
    "print('BIC : ', BIC_score(train_y, pred_y, Home_lm))"
   ]
  },
  {
   "cell_type": "code",
   "execution_count": 21,
   "id": "2122db63",
   "metadata": {},
   "outputs": [
    {
     "name": "stdout",
     "output_type": "stream",
     "text": [
      "       Predicted  Actual      Residual\n",
      "3   94018.909262   91000  -3018.909262\n",
      "2   96528.249265   93300  -3228.249265\n",
      "23  91225.495425   87100  -4125.495425\n",
      "39  87938.328171   87200   -738.328171\n",
      "17  87172.465543   94700   7527.534457\n",
      "29  85746.883335   88100   2353.116665\n",
      "19  89111.051359   87100  -2011.051359\n",
      "35  90804.063726   81000  -9804.063726\n",
      "31  89183.373076   88600   -583.373076\n",
      "22  90804.063726   81500  -9304.063726\n",
      "21  87666.218959   79800  -7866.218959\n",
      "33  87938.328171   84400  -3538.328171\n",
      "27  96811.286832   94200  -2611.286832\n",
      "34  95420.562225   90900  -4520.562225\n",
      "30  87938.328171   88100    161.671829\n",
      "32  87666.218959   76600 -11066.218959\n",
      "38  89183.373076  100700  11516.626924\n",
      "\n",
      "Regression statistics\n",
      "\n",
      "                      Mean Error (ME) : -2403.3647\n",
      "       Root Mean Squared Error (RMSE) : 6150.7656\n",
      "            Mean Absolute Error (MAE) : 4939.7117\n",
      "          Mean Percentage Error (MPE) : -3.1088\n",
      "Mean Absolute Percentage Error (MAPE) : 5.7253\n"
     ]
    }
   ],
   "source": [
    "Home_lm_pred = Home_lm.predict(valid_X)\n",
    "\n",
    "result = pd.DataFrame({'Predicted': Home_lm_pred, 'Actual': valid_y,\n",
    "                       'Residual': valid_y - Home_lm_pred})\n",
    "print(result.head(20))\n",
    "\n",
    "regressionSummary(valid_y, Home_lm_pred)"
   ]
  }
 ],
 "metadata": {
  "kernelspec": {
   "display_name": "Python 3",
   "language": "python",
   "name": "python3"
  },
  "language_info": {
   "codemirror_mode": {
    "name": "ipython",
    "version": 3
   },
   "file_extension": ".py",
   "mimetype": "text/x-python",
   "name": "python",
   "nbconvert_exporter": "python",
   "pygments_lexer": "ipython3",
   "version": "3.8.8"
  }
 },
 "nbformat": 4,
 "nbformat_minor": 5
}
